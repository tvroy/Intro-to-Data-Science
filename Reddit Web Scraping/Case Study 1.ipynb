{
 "cells": [
  {
   "cell_type": "markdown",
   "id": "e9885c34",
   "metadata": {},
   "source": [
    "### Case Study 1\n",
    "\n",
    "Assume you are new to the data science field, and you want to find out what real practitioners and wannabe data scientists are concerned about. One place where you may find such information is Twitter. However, Twitter users often use their real identities and may have reservations about sharing all their opinions publicly. Another place where such information maybe found is the datascience subreddit on Reddit.com (https://www.reddit.com/r/datascience/). Users are assumed to be anonymous and they are more likely to share their opinions without reservations. To find out common concerns among the datascience subreddit users, it might be a good idea to collect the top 100 posts in the subreddit in the year 2021. You might also collect the top 3 comments of each of those posts. In this case study, we will do exactly that. Specific details can be found in the next few cells. \n",
    "\n",
    "This data can be used for many different projects. However, we are only going to focus on the \"data gathering\" part. We will also do some cleaning.\n",
    "\n",
    "**Note**: This case study contributes 12.5% to your overall grade."
   ]
  },
  {
   "cell_type": "markdown",
   "id": "e18eccfe",
   "metadata": {},
   "source": [
    "## Step 1: \n",
    "###  15 points\n",
    "\n",
    "\n",
    "**Description:** \n",
    "\n",
    "Learn about the **praw** package for Python and learn how you can use it to load reddit posts, comments etc. on a Jupyter Notebook. Do a Google search. You might find tutorials. It is okay to use them. You may need to use secret keys for this part. For that you will need to open a Reddit account. You can use a throwaway account for this purpose. Write your code in the cell below. Any code you write to retrieve data from Reddit can go there.\n",
    "\n",
    "**Grading criteria:** \n",
    "\n",
    "The code for this step must be correct. Otherwise, the next steps cannot be completed. In that case, the next steps will not be graded. If you receive a praw object from the data science subreddit, you will get full 15 points.' Other methods may be considered, but not encouraged."
   ]
  },
  {
   "cell_type": "code",
   "execution_count": 1,
   "id": "1e402145",
   "metadata": {},
   "outputs": [],
   "source": [
    "# your code for step 1 goes here\n",
    "import praw\n",
    "import pandas as pd\n",
    "from datetime import datetime\n",
    "\n",
    "reddit = praw.Reddit(client_id = 'EgIX7SmuuYL6kC85RixmyQ',\n",
    "                        client_secret = 'ShwMaeZuaJj_T-UyEmFqpMp2RIyakQ',\n",
    "                        user_agent = 'forpraw by /u/tessgeorge')\n",
    "\n",
    "subreddit = reddit.subreddit('datascience')\n"
   ]
  },
  {
   "cell_type": "markdown",
   "id": "0a165843",
   "metadata": {},
   "source": [
    "## Step 2: \n",
    "### 10 + 20 + 10 + 15 + 5 + 5 = 65 points\n",
    "\n",
    "**Description**:\n",
    "Once you have the mechanism in place to retrieve data from Reddit, you next step is to determine which parts of the data is necessary. For this case study, collect only the top posts from the year 2021. Also consider if the score of each post was above 50 or not. If the score was below 50, it might not have been an important post. Do not consider those posts. \n",
    "\n",
    "You may also observe that sometimes posts with memes or jokes get a lot of 'upvotes,' and because of that they may  have high scores, but they may not be useful for this case study. To address this problem, you will simply get rid of any post that has fewer than 5 words in the title. \n",
    "\n",
    "You will also notice that praw returns time as an integer. It is inconvenient for us to read time like that. You may want to convert the integer time to human readable time. You do not need to mention hours, minutes, or seconds. Just year, month and date is enough.\n",
    "\n",
    "**Grading Criteria:**\n",
    "* posts are only from the year 2021: 10 points\n",
    "* the integer time format converted into year-month-day: 20 points\n",
    "* only posts with scores more than 50 were considered: 10 points\n",
    "* only post titles with more than 5 words were kept: 15 points\n",
    "* minimum 100 posts were collected: 5 points\n",
    "* three comments collected for each post: 5 points\n",
    "\n",
    "Note: All six grading criteria can be satified by writing one line or many lines of code. It does not matter. As long as your code satisfies the six criteria (in one line or many lines), you will get full points. Otherwise, you will get partial credits."
   ]
  },
  {
   "cell_type": "code",
   "execution_count": 2,
   "id": "d93478a3",
   "metadata": {},
   "outputs": [],
   "source": [
    "# your code for step 2 goes here\n",
    "top = subreddit.top(limit = 450)\n",
    "\n",
    "d1 = datetime(2021, 1, 1).timestamp()\n",
    "d2 = datetime(2021, 12, 31).timestamp()\n",
    "submissions = []\n",
    "\n",
    "for submission in top:\n",
    "    if submission.score >=50 and \\\n",
    "    submission.created_utc >= d1 and \\\n",
    "    submission.created_utc <= d2 and \\\n",
    "    len((submission.title).split()) > 5 and \\\n",
    "    len(submissions) < 100:\n",
    "        submissions.append(submission)\n",
    "\n",
    "dates = []\n",
    "utcdates = []\n",
    "scores = []\n",
    "titles = []\n",
    "comment1 = []\n",
    "comment2 = []\n",
    "comment3 = []\n",
    "\n",
    "for post in submissions:\n",
    "    post.comment_sort = \"top\"\n",
    "    post.comments.replace_more(limit = None)\n",
    "    dates.append(post.created_utc)\n",
    "    scores.append(post.score)\n",
    "    titles.append(post.title)\n",
    "    comment1.append((post.comments[0]).body)\n",
    "    comment2.append((post.comments[1]).body)\n",
    "    comment3.append((post.comments[2]).body)\n",
    "\n",
    "for date in dates:\n",
    "    x = datetime.utcfromtimestamp(date)\n",
    "    utcdates.append(datetime.strftime(x, \"%m/%d/%y\"))\n"
   ]
  },
  {
   "cell_type": "markdown",
   "id": "be5e66f6",
   "metadata": {},
   "source": []
  },
  {
   "cell_type": "markdown",
   "id": "c15bbb59",
   "metadata": {},
   "source": []
  },
  {
   "cell_type": "markdown",
   "id": "1fa139ad",
   "metadata": {},
   "source": [
    "## Step 3: \n",
    "### 10 points\n",
    "\n",
    "Save the data on your local disk. You may have used lists or similar data structures for the intial porcessing. Convert that data structure into a Pandas dataframe. Save the dataframe as a .csv file into your local disk. \n",
    "\n",
    "Here are the column details:\n",
    "\n",
    "Column 1: Date\n",
    "\n",
    "Column 2: Post score\n",
    "\n",
    "Column 3: Post title\n",
    "\n",
    "Column 4: Top comment 1\n",
    "\n",
    "Column 5: Top comment 2\n",
    "\n",
    "Column 6: Top comment 3\n",
    "\n",
    "When you create the .csv file, it should have 101 rows (including column names) and 6 columns.\n",
    "\n",
    "**Grading criteria:**\n",
    "If your code produces a .csv file in the local disk in the same folder as the Jupyter Notebook file, you get full points. Otherwise, no point."
   ]
  },
  {
   "cell_type": "code",
   "execution_count": 3,
   "id": "29360c20",
   "metadata": {},
   "outputs": [],
   "source": [
    "# your code for step 3 goes here\n",
    "dict = {'Date': utcdates, 'Post Score': scores, 'Post Title': titles, 'Top Comment 1': comment1, 'Top Comment 2': comment2, 'Top Comment 3': comment3}\n",
    "df = pd.DataFrame(dict)\n",
    "\n",
    "df.to_csv('./CaseStudy1.csv', index = False)"
   ]
  },
  {
   "cell_type": "markdown",
   "id": "660e83a8",
   "metadata": {},
   "source": [
    "## Step 4:\n",
    "### 10 points\n",
    "#### Presentation slides:\n",
    "   \n",
    "Create presentation slides for this case study. The presentation slides should provide an overview of the problem you tried to solve, methods you have used (don't put actual code in the slides), and if you have discovered new insights from the data you have collected. You may put actual post titles or comments in the slide that you found insightful. The number of slides should be around 6-7 (no hard limit). Three of you will be randomly chosen and be asked to present your work in the class. You should be prepared to present your work for 5 mins.\n",
    "\n",
    "**Notes on grading**: 5 points will be deducted if you are not prepared to present on the day of submission."
   ]
  },
  {
   "cell_type": "markdown",
   "id": "bf079479",
   "metadata": {},
   "source": [
    "### What to submit:\n",
    "\n",
    "Put the Jupyter Notebook file and the .csv file in a folder. Then convert your presentation slides in to a PDF file and put it in the same folder. Zip the folder. After zipping, it should have the extension .zip. The name of the .zip file should be firstname_lastname_casestudy_1.zip . Upload the .zip file on Canvas.\n",
    "\n"
   ]
  }
 ],
 "metadata": {
  "kernelspec": {
   "display_name": "Python 3.9.7 ('base')",
   "language": "python",
   "name": "python3"
  },
  "language_info": {
   "codemirror_mode": {
    "name": "ipython",
    "version": 3
   },
   "file_extension": ".py",
   "mimetype": "text/x-python",
   "name": "python",
   "nbconvert_exporter": "python",
   "pygments_lexer": "ipython3",
   "version": "3.9.7"
  },
  "vscode": {
   "interpreter": {
    "hash": "581bdb10a1965225ca65b435fc2b7141bd35840826ebb746b28d64fc969da54c"
   }
  }
 },
 "nbformat": 4,
 "nbformat_minor": 5
}
